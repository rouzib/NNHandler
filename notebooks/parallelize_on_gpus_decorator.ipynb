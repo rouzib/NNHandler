{
 "cells": [
  {
   "cell_type": "code",
   "id": "initial_id",
   "metadata": {
    "collapsed": true,
    "ExecuteTime": {
     "end_time": "2025-09-30T22:39:26.703165Z",
     "start_time": "2025-09-30T22:39:24.516388Z"
    }
   },
   "source": [
    "import torch\n",
    "import time\n",
    "\n",
    "from nn_handler.utils import parallel_on_all_devices, _resolve_device"
   ],
   "outputs": [],
   "execution_count": 1
  },
  {
   "metadata": {
    "ExecuteTime": {
     "end_time": "2025-09-30T22:39:26.878948Z",
     "start_time": "2025-09-30T22:39:26.833983Z"
    }
   },
   "cell_type": "code",
   "source": "device = _resolve_device(\"cuda\")",
   "id": "bb030bba1c46fe6a",
   "outputs": [],
   "execution_count": 2
  },
  {
   "metadata": {
    "ExecuteTime": {
     "end_time": "2025-09-30T22:39:26.894728Z",
     "start_time": "2025-09-30T22:39:26.891252Z"
    }
   },
   "cell_type": "code",
   "source": [
    "from nn_handler import __version__\n",
    "\n",
    "print(__version__)"
   ],
   "id": "b6f44704158e1a7c",
   "outputs": [
    {
     "name": "stdout",
     "output_type": "stream",
     "text": [
      "0.3.27+ddp\n"
     ]
    }
   ],
   "execution_count": 3
  },
  {
   "metadata": {
    "ExecuteTime": {
     "end_time": "2025-09-30T22:39:27.051317Z",
     "start_time": "2025-09-30T22:39:26.943330Z"
    }
   },
   "cell_type": "code",
   "source": "print(f\"Available GPUs: {torch.cuda.device_count()}\")",
   "id": "f011abffd4304932",
   "outputs": [
    {
     "name": "stdout",
     "output_type": "stream",
     "text": [
      "Available GPUs: 2\n"
     ]
    }
   ],
   "execution_count": 4
  },
  {
   "metadata": {
    "ExecuteTime": {
     "end_time": "2025-09-30T22:39:27.064489Z",
     "start_time": "2025-09-30T22:39:27.056888Z"
    }
   },
   "cell_type": "code",
   "source": [
    "data = torch.randn(2, 1)\n",
    "print(f\"{data.device = }\")\n",
    "print(f\"{data = }\")"
   ],
   "id": "73826bd3605671e8",
   "outputs": [
    {
     "name": "stdout",
     "output_type": "stream",
     "text": [
      "data.device = device(type='cpu')\n",
      "data = tensor([[-1.4343],\n",
      "        [-0.6782]])\n"
     ]
    }
   ],
   "execution_count": 5
  },
  {
   "metadata": {},
   "cell_type": "markdown",
   "source": "# Split data on devices",
   "id": "390c7852d2fae029"
  },
  {
   "metadata": {
    "ExecuteTime": {
     "end_time": "2025-09-30T22:39:27.118269Z",
     "start_time": "2025-09-30T22:39:27.114939Z"
    }
   },
   "cell_type": "code",
   "source": [
    "@parallel_on_all_devices\n",
    "def data_split(data):\n",
    "    device = data.device  # or torch.cuda.current_device()\n",
    "\n",
    "    print(f\"{device} -> {data.shape = }: {data}\")\n",
    "\n",
    "    return data + 1"
   ],
   "id": "958e7543f98de3f3",
   "outputs": [],
   "execution_count": 6
  },
  {
   "metadata": {
    "ExecuteTime": {
     "end_time": "2025-09-30T22:39:28.066865Z",
     "start_time": "2025-09-30T22:39:27.165937Z"
    }
   },
   "cell_type": "code",
   "source": [
    "result = data_split(data)\n",
    "print(f\"{result = }\")"
   ],
   "id": "cbbeacd2181d6c2f",
   "outputs": [
    {
     "name": "stdout",
     "output_type": "stream",
     "text": [
      "cuda:1 -> data.shape = torch.Size([1, 1]): tensor([[-0.6782]], device='cuda:1')\n",
      "cuda:0 -> data.shape = torch.Size([1, 1]): tensor([[-1.4343]], device='cuda:0')\n",
      "result = tensor([[-0.4343],\n",
      "        [ 0.3218]], device='cuda:0')\n"
     ]
    }
   ],
   "execution_count": 7
  },
  {
   "metadata": {},
   "cell_type": "markdown",
   "source": "# Instantiating other tensors on gpus",
   "id": "667365e6c3ccc8a2"
  },
  {
   "metadata": {
    "ExecuteTime": {
     "end_time": "2025-09-30T22:39:28.076290Z",
     "start_time": "2025-09-30T22:39:28.072775Z"
    }
   },
   "cell_type": "code",
   "source": [
    "@parallel_on_all_devices\n",
    "def instantiating_tensors(data):\n",
    "    new_tensor = torch.randn(2, 1)\n",
    "    new_tensor_current_gpu = new_tensor.cuda()  # or new_tensor.to(data.device)\n",
    "\n",
    "    print(f\"{new_tensor.device = }      vs      {new_tensor_current_gpu.device = }\")"
   ],
   "id": "e04b253955494769",
   "outputs": [],
   "execution_count": 8
  },
  {
   "metadata": {
    "ExecuteTime": {
     "end_time": "2025-09-30T22:39:28.100791Z",
     "start_time": "2025-09-30T22:39:28.093468Z"
    }
   },
   "cell_type": "code",
   "source": "instantiating_tensors(data)",
   "id": "67a3ec1a4e8343c4",
   "outputs": [
    {
     "name": "stdout",
     "output_type": "stream",
     "text": [
      "new_tensor.device = device(type='cpu')      vs      new_tensor_current_gpu.device = device(type='cuda', index=0)\n",
      "new_tensor.device = device(type='cpu')      vs      new_tensor_current_gpu.device = device(type='cuda', index=1)\n"
     ]
    }
   ],
   "execution_count": 9
  },
  {
   "metadata": {},
   "cell_type": "markdown",
   "source": "# Quirks",
   "id": "8b3b6f937b234942"
  },
  {
   "metadata": {},
   "cell_type": "markdown",
   "source": "### Single device execution",
   "id": "1944960c75f96021"
  },
  {
   "metadata": {
    "ExecuteTime": {
     "end_time": "2025-09-30T22:39:28.150700Z",
     "start_time": "2025-09-30T22:39:28.146323Z"
    }
   },
   "cell_type": "code",
   "source": [
    "@parallel_on_all_devices\n",
    "def single_device():\n",
    "    # Providing no arguments to the function forces the backend to not split\n",
    "    # any tensor and therefore running on the primary device.\n",
    "    print(f\"{torch.cuda.current_device() = }\")\n",
    "\n",
    "single_device()"
   ],
   "id": "67dedf15e39a8288",
   "outputs": [
    {
     "name": "stdout",
     "output_type": "stream",
     "text": [
      "torch.cuda.current_device() = 0\n"
     ]
    }
   ],
   "execution_count": 10
  },
  {
   "metadata": {
    "ExecuteTime": {
     "end_time": "2025-09-30T22:39:28.206807Z",
     "start_time": "2025-09-30T22:39:28.201744Z"
    }
   },
   "cell_type": "code",
   "source": [
    "@parallel_on_all_devices\n",
    "def single_device(data=torch.randn(2, 1)):\n",
    "    # Default arguments will be replicated on each device.\n",
    "    print(f\"{torch.cuda.current_device() = }\")\n",
    "    print(f\"{data.device = }\")\n",
    "\n",
    "single_device()"
   ],
   "id": "38d402be4e4cf27c",
   "outputs": [
    {
     "name": "stdout",
     "output_type": "stream",
     "text": [
      "torch.cuda.current_device() = 0\n",
      "data.device = device(type='cpu')\n"
     ]
    }
   ],
   "execution_count": 11
  },
  {
   "metadata": {},
   "cell_type": "markdown",
   "source": "### Data replication",
   "id": "4f581c5636ad9adf"
  },
  {
   "metadata": {
    "ExecuteTime": {
     "end_time": "2025-09-30T22:39:28.264598Z",
     "start_time": "2025-09-30T22:39:28.257756Z"
    }
   },
   "cell_type": "code",
   "source": [
    "@parallel_on_all_devices\n",
    "def multi_device(data, data2=torch.randn(2, 1)):\n",
    "    # Default arguments will be replicated on each device.\n",
    "    print(f\"{torch.cuda.current_device() = }\")\n",
    "    print(f\"{data2.device = }, {data2.shape = }\")\n",
    "\n",
    "multi_device(data)"
   ],
   "id": "704edc2e1555bd6d",
   "outputs": [
    {
     "name": "stdout",
     "output_type": "stream",
     "text": [
      "torch.cuda.current_device() = 0\n",
      "data2.device = device(type='cpu'), data2.shape = torch.Size([2, 1])\n",
      "torch.cuda.current_device() = 1\n",
      "data2.device = device(type='cpu'), data2.shape = torch.Size([2, 1])\n"
     ]
    }
   ],
   "execution_count": 12
  },
  {
   "metadata": {
    "ExecuteTime": {
     "end_time": "2025-09-30T22:39:28.316757Z",
     "start_time": "2025-09-30T22:39:28.309895Z"
    }
   },
   "cell_type": "code",
   "source": [
    "from functools import partial\n",
    "\n",
    "# However, partial works\n",
    "partial(multi_device, data2=torch.randn(2, 1))(data)"
   ],
   "id": "40411eb3933df3af",
   "outputs": [
    {
     "name": "stdout",
     "output_type": "stream",
     "text": [
      "torch.cuda.current_device() = 0torch.cuda.current_device() = 1\n",
      "data2.device = device(type='cuda', index=1), data2.shape = torch.Size([1, 1])\n",
      "\n",
      "data2.device = device(type='cuda', index=0), data2.shape = torch.Size([1, 1])\n"
     ]
    }
   ],
   "execution_count": 13
  },
  {
   "metadata": {
    "ExecuteTime": {
     "end_time": "2025-09-30T22:39:28.375034Z",
     "start_time": "2025-09-30T22:39:28.367925Z"
    }
   },
   "cell_type": "code",
   "source": [
    "# If replication is needed, use partial and then wrap your function with the decorator\n",
    "\n",
    "def multi_device(data, data2):\n",
    "    print(f\"{torch.cuda.current_device() = }\")\n",
    "    print(f\"{data2.device = }, {data2.shape = }\")\n",
    "\n",
    "fn = partial(multi_device, data2=torch.randn(2, 1))\n",
    "\n",
    "parallel_on_all_devices(fn)(data)"
   ],
   "id": "764c1780a5459d43",
   "outputs": [
    {
     "name": "stdout",
     "output_type": "stream",
     "text": [
      "torch.cuda.current_device() = 0torch.cuda.current_device() = 1\n",
      "data2.device = device(type='cpu'), data2.shape = torch.Size([2, 1])\n",
      "\n",
      "data2.device = device(type='cpu'), data2.shape = torch.Size([2, 1])\n"
     ]
    }
   ],
   "execution_count": 14
  },
  {
   "metadata": {},
   "cell_type": "markdown",
   "source": "### Collecting results",
   "id": "bd88fab56e2a33ab"
  },
  {
   "metadata": {
    "ExecuteTime": {
     "end_time": "2025-09-30T22:39:28.431389Z",
     "start_time": "2025-09-30T22:39:28.425103Z"
    }
   },
   "cell_type": "code",
   "source": [
    "# results will be collected on the default GPU\n",
    "@parallel_on_all_devices\n",
    "def return_data(data):\n",
    "    return data\n",
    "\n",
    "print(f\"{return_data(data).device = }\")"
   ],
   "id": "7f3e8927f14ac2fe",
   "outputs": [
    {
     "name": "stdout",
     "output_type": "stream",
     "text": [
      "return_data(data).device = device(type='cuda', index=0)\n"
     ]
    }
   ],
   "execution_count": 15
  },
  {
   "metadata": {
    "ExecuteTime": {
     "end_time": "2025-09-30T22:39:28.494842Z",
     "start_time": "2025-09-30T22:39:28.489102Z"
    }
   },
   "cell_type": "code",
   "source": [
    "@parallel_on_all_devices\n",
    "def return_cpu(data):\n",
    "    # Due to the torch implementation, only the NVCC gather function is supported,\n",
    "    # so the data can't be returned on the cpu.\n",
    "    return data.cpu()\n",
    "\n",
    "try:\n",
    "    return_cpu(data)\n",
    "except AssertionError as e:\n",
    "    print(f\"\\x1b[31m\\\"{e}\\\"\\x1b[0m\")"
   ],
   "id": "489f20de84f3cd05",
   "outputs": [
    {
     "name": "stdout",
     "output_type": "stream",
     "text": [
      "\u001B[31m\"Gather function not implemented for CPU tensors\"\u001B[0m\n"
     ]
    }
   ],
   "execution_count": 16
  },
  {
   "metadata": {},
   "cell_type": "markdown",
   "source": "### Device Fighting",
   "id": "d8b779958ff54656"
  },
  {
   "metadata": {
    "ExecuteTime": {
     "end_time": "2025-09-30T22:52:24.648534Z",
     "start_time": "2025-09-30T22:52:23.638180Z"
    }
   },
   "cell_type": "code",
   "source": [
    "data2 = torch.randn(2, 1)\n",
    "\n",
    "@parallel_on_all_devices\n",
    "def device_fighting(data):\n",
    "    global data2\n",
    "    # Global tensors only exist once and since the function is called on each device,\n",
    "    # tensors will be moved multiple times.\n",
    "    data2 = data2.cuda()\n",
    "    for i in range(10):\n",
    "        data = data + data2\n",
    "        time.sleep(0.1)\n",
    "\n",
    "try:\n",
    "    device_fighting(data)\n",
    "except RuntimeError as e:\n",
    "    print(f\"\\x1b[31m\\\"{e}\\\"\\x1b[0m\")"
   ],
   "id": "c69e8011a55c5348",
   "outputs": [
    {
     "name": "stdout",
     "output_type": "stream",
     "text": [
      "\u001B[31m\"Caught RuntimeError in replica 0 on device 0.\n",
      "Original Traceback (most recent call last):\n",
      "  File \"/home/rouzib/.virtualenvs/LatentGalaxy/lib/python3.10/site-packages/torch/nn/parallel/parallel_apply.py\", line 97, in _worker\n",
      "    output = module(*input, **kwargs)\n",
      "  File \"/home/rouzib/.virtualenvs/LatentGalaxy/lib/python3.10/site-packages/torch/nn/modules/module.py\", line 1751, in _wrapped_call_impl\n",
      "    return self._call_impl(*args, **kwargs)\n",
      "  File \"/home/rouzib/.virtualenvs/LatentGalaxy/lib/python3.10/site-packages/torch/nn/modules/module.py\", line 1762, in _call_impl\n",
      "    return forward_call(*args, **kwargs)\n",
      "  File \"/home/rouzib/.virtualenvs/LatentGalaxy/lib/python3.10/site-packages/nn_handler/utils/ddp_decorators.py\", line 125, in forward\n",
      "    return self.forward_func(*args, **kwargs)\n",
      "  File \"/tmp/ipykernel_3819762/2556332179.py\", line 11, in device_fighting\n",
      "    data = data + data2\n",
      "RuntimeError: Expected all tensors to be on the same device, but found at least two devices, cuda:0 and cuda:1!\n",
      "\"\u001B[0m\n"
     ]
    }
   ],
   "execution_count": 49
  },
  {
   "metadata": {},
   "cell_type": "markdown",
   "source": "# Example: Sampling",
   "id": "b07085727cc93792"
  },
  {
   "metadata": {
    "ExecuteTime": {
     "end_time": "2025-09-30T22:39:31.552968Z",
     "start_time": "2025-09-30T22:39:28.542035Z"
    }
   },
   "cell_type": "code",
   "source": [
    "from matplotlib import pyplot as plt\n",
    "\n",
    "from nn_handler import NNHandler\n",
    "from nn_handler.model_utils.score_models import denoising_score_matching\n",
    "\n",
    "model = NNHandler.load(\"notebooks/models/MNIST_score_models.pth\", device=device)"
   ],
   "id": "9bbae0fca1d8f1ea",
   "outputs": [
    {
     "name": "stdout",
     "output_type": "stream",
     "text": [
      "INFO (Rank 0): Loading checkpoint 'MNIST_score_models.pth' to map_location='cuda' (Resolved: cuda)\n",
      "WARN: No DDP environment variables found. Running non-DDP.\n"
     ]
    }
   ],
   "execution_count": 17
  },
  {
   "metadata": {
    "ExecuteTime": {
     "end_time": "2025-09-30T22:39:31.570497Z",
     "start_time": "2025-09-30T22:39:31.566869Z"
    }
   },
   "cell_type": "code",
   "source": "sample_shape = [1024, 1, 28, 28]",
   "id": "defbc9f2fd06cc87",
   "outputs": [],
   "execution_count": 18
  },
  {
   "metadata": {
    "ExecuteTime": {
     "end_time": "2025-09-30T22:40:02.622249Z",
     "start_time": "2025-09-30T22:39:31.620076Z"
    }
   },
   "cell_type": "code",
   "source": "samples = model.sample(sample_shape, steps=100)",
   "id": "4d247f12117a0dc3",
   "outputs": [
    {
     "name": "stderr",
     "output_type": "stream",
     "text": [
      "Sampling (prior): 100%|██████████| 100/100 [00:30<00:00,  3.23it/s, t=0.010, sigma=1.07e-02, |x|=1.27e-01]\n"
     ]
    }
   ],
   "execution_count": 19
  },
  {
   "metadata": {
    "ExecuteTime": {
     "end_time": "2025-09-30T22:42:32.888647Z",
     "start_time": "2025-09-30T22:40:02.655646Z"
    }
   },
   "cell_type": "code",
   "source": "%timeit -n 2 -r 2 model.sample(sample_shape, steps=100, bar=False)",
   "id": "bf8309b0221942a3",
   "outputs": [
    {
     "name": "stdout",
     "output_type": "stream",
     "text": [
      "34.1 s ± 1.95 s per loop (mean ± std. dev. of 2 runs, 2 loops each)\n"
     ]
    }
   ],
   "execution_count": 20
  },
  {
   "metadata": {
    "ExecuteTime": {
     "end_time": "2025-09-30T22:42:33.135557Z",
     "start_time": "2025-09-30T22:42:32.987889Z"
    }
   },
   "cell_type": "code",
   "source": [
    "n_digits = 4\n",
    "plt.figure(figsize=(n_digits * 2, 2))\n",
    "\n",
    "for i in range(n_digits):\n",
    "    plt.subplot(1, n_digits, i + 1)\n",
    "    plt.imshow(samples[i, 0].cpu(), cmap='gray')\n",
    "    plt.axis('off')\n",
    "    plt.title(f\"Sample {i+1}\")\n",
    "\n",
    "plt.tight_layout()\n",
    "plt.show()"
   ],
   "id": "7d82a19c19473515",
   "outputs": [
    {
     "data": {
      "text/plain": [
       "<Figure size 800x200 with 4 Axes>"
      ],
      "image/png": "[encoded data removed]"
     },
     "metadata": {},
     "output_type": "display_data"
    }
   ],
   "execution_count": 21
  },
  {
   "metadata": {
    "ExecuteTime": {
     "end_time": "2025-09-30T22:42:57.346990Z",
     "start_time": "2025-09-30T22:42:33.167742Z"
    }
   },
   "cell_type": "code",
   "source": [
    "@parallel_on_all_devices\n",
    "def multi_device_sample(per_device_samples):\n",
    "    device = per_device_samples.device\n",
    "    per_device_sample_shape = (per_device_samples.squeeze().item(), 1, 28, 28)\n",
    "\n",
    "    per_gpu_model = NNHandler.load(\"notebooks/models/MNIST_score_models.pth\", device=device)\n",
    "    per_gpu_model._model = per_gpu_model.module # bypass NNHandler auto parallelization of the model\n",
    "\n",
    "    # only print on device 0\n",
    "    if torch.cuda.current_device() == 0:\n",
    "        print(per_device_sample_shape)\n",
    "    return per_gpu_model.sample(per_device_sample_shape, steps=100, bar=False)\n",
    "\n",
    "samples_mGPU = multi_device_sample(torch.tensor([512, 512]))"
   ],
   "id": "cf0689ed933b9abf",
   "outputs": [
    {
     "name": "stdout",
     "output_type": "stream",
     "text": [
      "INFO (Rank 0): Loading checkpoint 'MNIST_score_models.pth' to map_location='cuda:0' (Resolved: cuda:0)\n",
      "INFO (Rank 0): Loading checkpoint 'MNIST_score_models.pth' to map_location='cuda:1' (Resolved: cuda:1)\n",
      "WARN: No DDP environment variables found. Running non-DDP.\n",
      "WARN: No DDP environment variables found. Running non-DDP.\n",
      "(512, 1, 28, 28)\n"
     ]
    }
   ],
   "execution_count": 22
  },
  {
   "metadata": {
    "ExecuteTime": {
     "end_time": "2025-09-30T22:42:57.532719Z",
     "start_time": "2025-09-30T22:42:57.420800Z"
    }
   },
   "cell_type": "code",
   "source": [
    "n_digits = 4\n",
    "plt.figure(figsize=(n_digits * 2, 2))\n",
    "\n",
    "for i in range(n_digits):\n",
    "    plt.subplot(1, n_digits, i + 1)\n",
    "    plt.imshow(samples_mGPU[i, 0].cpu(), cmap='gray')\n",
    "    plt.axis('off')\n",
    "    plt.title(f\"Sample {i+1}\")\n",
    "\n",
    "plt.tight_layout()\n",
    "plt.show()"
   ],
   "id": "d859db98a264916f",
   "outputs": [
    {
     "data": {
      "text/plain": [
       "<Figure size 800x200 with 4 Axes>"
      ],
      "image/png": "[encoded data removed]"
     },
     "metadata": {},
     "output_type": "display_data"
    }
   ],
   "execution_count": 23
  },
  {
   "metadata": {
    "ExecuteTime": {
     "end_time": "2025-09-30T22:44:49.884736Z",
     "start_time": "2025-09-30T22:42:57.584821Z"
    }
   },
   "cell_type": "code",
   "source": "%timeit -n 2 -r 2 multi_device_sample(torch.tensor([512, 512]))",
   "id": "650f0c8994d18158",
   "outputs": [
    {
     "name": "stdout",
     "output_type": "stream",
     "text": [
      "INFO (Rank 0): Loading checkpoint 'MNIST_score_models.pth' to map_location='cuda:0' (Resolved: cuda:0)\n",
      "INFO (Rank 0): Loading checkpoint 'MNIST_score_models.pth' to map_location='cuda:1' (Resolved: cuda:1)\n",
      "WARN: No DDP environment variables found. Running non-DDP.\n",
      "WARN: No DDP environment variables found. Running non-DDP.\n",
      "(512, 1, 28, 28)\n",
      "INFO (Rank 0): Loading checkpoint 'MNIST_score_models.pth' to map_location='cuda:0' (Resolved: cuda:0)INFO (Rank 0): Loading checkpoint 'MNIST_score_models.pth' to map_location='cuda:1' (Resolved: cuda:1)\n",
      "\n",
      "WARN: No DDP environment variables found. Running non-DDP.\n",
      "WARN: No DDP environment variables found. Running non-DDP.\n",
      "(512, 1, 28, 28)\n",
      "INFO (Rank 0): Loading checkpoint 'MNIST_score_models.pth' to map_location='cuda:0' (Resolved: cuda:0)\n",
      "INFO (Rank 0): Loading checkpoint 'MNIST_score_models.pth' to map_location='cuda:1' (Resolved: cuda:1)\n",
      "WARN: No DDP environment variables found. Running non-DDP.\n",
      "WARN: No DDP environment variables found. Running non-DDP.\n",
      "(512, 1, 28, 28)\n",
      "INFO (Rank 0): Loading checkpoint 'MNIST_score_models.pth' to map_location='cuda:1' (Resolved: cuda:1)\n",
      "INFO (Rank 0): Loading checkpoint 'MNIST_score_models.pth' to map_location='cuda:0' (Resolved: cuda:0)\n",
      "WARN: No DDP environment variables found. Running non-DDP.\n",
      "WARN: No DDP environment variables found. Running non-DDP.\n",
      "(512, 1, 28, 28)\n",
      "25.5 s ± 2.87 s per loop (mean ± std. dev. of 2 runs, 2 loops each)\n"
     ]
    }
   ],
   "execution_count": 24
  }
 ],
 "metadata": {
  "kernelspec": {
   "display_name": "Python 3",
   "language": "python",
   "name": "python3"
  },
  "language_info": {
   "codemirror_mode": {
    "name": "ipython",
    "version": 2
   },
   "file_extension": ".py",
   "mimetype": "text/x-python",
   "name": "python",
   "nbconvert_exporter": "python",
   "pygments_lexer": "ipython2",
   "version": "2.7.6"
  }
 },
 "nbformat": 4,
 "nbformat_minor": 5
}
